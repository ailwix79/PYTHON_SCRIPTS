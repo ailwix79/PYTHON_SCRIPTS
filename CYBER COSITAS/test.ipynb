{
 "cells": [
  {
   "cell_type": "code",
   "execution_count": null,
   "id": "a0b83446",
   "metadata": {},
   "outputs": [
    {
     "name": "stdout",
     "output_type": "stream",
     "text": [
      "Connecting to server...\n",
      "Command> dir\n",
      "Server> 0\n"
     ]
    }
   ],
   "source": [
    "import socket\n",
    "import sys\n",
    "\n",
    "sock=socket.socket(socket.AF_INET, socket.SOCK_STREAM)\n",
    "sock.connect((\"127.0.0.1\",4444))\n",
    "print(\"Connecting to server...\")\n",
    "\n",
    "while True:\n",
    "    command = input(\"Command> \")\n",
    "    sock.send(command.encode())\n",
    "    data = sock.recv(1024).decode()\n",
    "    print(\"Server> \" + str(data))\n",
    "\n",
    "print(\"Closing connection\")"
   ]
  }
 ],
 "metadata": {
  "kernelspec": {
   "display_name": "Python 3",
   "language": "python",
   "name": "python3"
  },
  "language_info": {
   "codemirror_mode": {
    "name": "ipython",
    "version": 3
   },
   "file_extension": ".py",
   "mimetype": "text/x-python",
   "name": "python",
   "nbconvert_exporter": "python",
   "pygments_lexer": "ipython3",
   "version": "3.8.8"
  }
 },
 "nbformat": 4,
 "nbformat_minor": 5
}

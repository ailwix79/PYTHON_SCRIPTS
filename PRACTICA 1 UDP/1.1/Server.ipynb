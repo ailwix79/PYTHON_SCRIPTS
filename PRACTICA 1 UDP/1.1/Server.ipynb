{
 "cells": [
  {
   "cell_type": "code",
   "execution_count": null,
   "id": "fe276fae",
   "metadata": {},
   "outputs": [
    {
     "name": "stdout",
     "output_type": "stream",
     "text": [
      "b'Hello Client'\n"
     ]
    }
   ],
   "source": [
    "# PRACTICA 1.1 SERVIDOR\n",
    "\n",
    "import socket\n",
    "\n",
    "# Mensaje de respuesta al cliente\n",
    "msg = \"Hello Client\"\n",
    "bytes_tx = str.encode(msg)\n",
    "\n",
    "# Direccion del servidor\n",
    "server_address = (\"127.0.0.1\",6780)\n",
    "\n",
    "# Creacion objeto socket, de la familia AF_INET, en funcion \n",
    "# de la familia del socket.\n",
    "# Son necesarios pasar más parametros o la dirección del servidor \n",
    "# en un formato distinto.\n",
    "# El este caso para la familia AF_INET solo es necesaria \n",
    "# la tupla (host, puerto).\n",
    "socket = socket.socket(family=socket.AF_INET, type=socket.SOCK_DGRAM)\n",
    "\n",
    "# Esta instruccion asocia el objeto socket creado \n",
    "# anteriormente con una direccion y puerto, \n",
    "# se utiliza para definir el endpoint de la comunicacion. \n",
    "# El equivalente en el cliente seria la funcion connect(), \n",
    "# utilizada para conectarse a un servidor.\n",
    "socket.bind(server_address)\n",
    "\n",
    "while True:\n",
    "    # Se recibe una tupla con el mensaje y el socket (ip,puerto)\n",
    "    bytes_rx = socket.recvfrom(1024)\n",
    "    message = bytes_rx[0]\n",
    "    address = bytes_rx[1]\n",
    "\n",
    "    print(message)\n",
    "\n",
    "    # Se envia mensaje de respuesta al cliente\n",
    "    socket.sendto(bytes_tx, address)\n",
    "    \n",
    "# Finaliza el servidor\n",
    "socket.close()"
   ]
  },
  {
   "cell_type": "code",
   "execution_count": null,
   "id": "ec4fabd1",
   "metadata": {},
   "outputs": [],
   "source": []
  }
 ],
 "metadata": {
  "kernelspec": {
   "display_name": "Python 3",
   "language": "python",
   "name": "python3"
  },
  "language_info": {
   "codemirror_mode": {
    "name": "ipython",
    "version": 3
   },
   "file_extension": ".py",
   "mimetype": "text/x-python",
   "name": "python",
   "nbconvert_exporter": "python",
   "pygments_lexer": "ipython3",
   "version": "3.8.8"
  }
 },
 "nbformat": 4,
 "nbformat_minor": 5
}

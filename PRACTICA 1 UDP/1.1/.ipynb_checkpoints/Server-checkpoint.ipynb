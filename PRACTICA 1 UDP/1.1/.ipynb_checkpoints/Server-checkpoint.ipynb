{
 "cells": [
  {
   "cell_type": "code",
   "execution_count": null,
   "id": "975a7b54",
   "metadata": {},
   "outputs": [],
   "source": [
    "# PRÁCTICA 1.1 SERVIDOR\n",
    "\n",
    "import socket\n",
    "\n",
    "# Mensaje de respuesta al cliente\n",
    "msg = \"Hello Client\"\n",
    "bytes_tx = str.enconde(msg)\n",
    "\n",
    "# Dirección del servidor\n",
    "server_address = (\"127.0.0.1\",6780)\n",
    "\n",
    "# Creación objeto socket, de la familia AF_INET, en función de la familia del socket\n",
    "# son necesarios pasar más parámetros o la dirección del servidor en un formato distinto\n",
    "# El este caso para la familia AF_INET solo es necesaria la tupla (host, puerto)\n",
    "socket = socket.socket(family=socket.AF_INET, type=socket.SOCKDGRAM)\n",
    "\n",
    "# Esta instrucción asocia el objeto socket creado anteriormente con una dirección\n",
    "# y puerto, se utilzia para definir el endpoint de la comunicación. \n",
    "# El equivalente en el cliente sería la función connect(), utilzada para conectarse a un servidor.\n",
    "socket.bind(server_address)\n",
    "\n",
    "while True:\n",
    "    # Se recibe una tupla con el mensaje y el socket (ip,puerto)\n",
    "    bytes_rx = socket.recvfrom(1024)\n",
    "    message = bytes_rx[0]\n",
    "    message = bytes_rx[1]\n",
    "\n",
    "    print(message)\n",
    "\n",
    "    # Se envía mensaje de respuesta al cliente\n",
    "    socket.sendto(bytes_rx, address)\n",
    "    \n",
    "# Finaliza el servidor\n",
    "socket.close()"
   ]
  }
 ],
 "metadata": {
  "kernelspec": {
   "display_name": "Python 3",
   "language": "python",
   "name": "python3"
  },
  "language_info": {
   "codemirror_mode": {
    "name": "ipython",
    "version": 3
   },
   "file_extension": ".py",
   "mimetype": "text/x-python",
   "name": "python",
   "nbconvert_exporter": "python",
   "pygments_lexer": "ipython3",
   "version": "3.8.8"
  }
 },
 "nbformat": 4,
 "nbformat_minor": 5
}

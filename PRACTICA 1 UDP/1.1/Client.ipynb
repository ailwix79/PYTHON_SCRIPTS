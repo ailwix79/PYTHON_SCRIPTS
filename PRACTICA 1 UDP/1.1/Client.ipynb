{
 "cells": [
  {
   "cell_type": "code",
   "execution_count": 1,
   "id": "c05db568",
   "metadata": {},
   "outputs": [
    {
     "name": "stdout",
     "output_type": "stream",
     "text": [
      "RX :  (b'Hello Client', ('127.0.0.1', 6780))\n"
     ]
    }
   ],
   "source": [
    "# PRÁCTICA 1.1 CLIENTE\n",
    "\n",
    "import socket\n",
    "\n",
    "# Mensaje a enviar y codificado en bytes\n",
    "msg = \"Hello Client\"\n",
    "bytes_tx = str.encode(msg)\n",
    "\n",
    "# Socket del servidor (ip,puerto)\n",
    "server_address = (\"127.0.0.1\",6780)\n",
    "\n",
    "# Creación objeto socket, de la familia AF_INET, en función de la familia del socket\n",
    "# son necesarios pasar más parámetros o la dirección del servidor en un formato distinto\n",
    "# El este caso para la familia AF_INET solo es necesaria la tupla (host, puerto)\n",
    "socket = socket.socket(family=socket.AF_INET, type=socket.SOCK_DGRAM)\n",
    "\n",
    "# Se le pasa al objeto socket el mensaje y la tupla (ip,puerto)\n",
    "# Esta instrucción devuelve el número de bytes enviados\n",
    "socket.sendto(bytes_tx, server_address)\n",
    "\n",
    "# Esta instrucción bloquea el código hasta que se reciba una respuesta\n",
    "# recv(): Comunicaciones orientadas a conexión, devuelve solo los datos (TCP)\n",
    "# recvfrom(): Comunicaciones no orientadas a conexión, devuelve los datos y la dirección del emisor (UDP)\n",
    "bytes_rx = socket.recvfrom(1024)\n",
    "\n",
    "print(\"RX : \", bytes_rx)\n",
    "\n",
    "# Finaliza el cliente\n",
    "socket.close()"
   ]
  },
  {
   "cell_type": "code",
   "execution_count": null,
   "id": "0d6a705f",
   "metadata": {},
   "outputs": [],
   "source": []
  }
 ],
 "metadata": {
  "kernelspec": {
   "display_name": "Python 3",
   "language": "python",
   "name": "python3"
  },
  "language_info": {
   "codemirror_mode": {
    "name": "ipython",
    "version": 3
   },
   "file_extension": ".py",
   "mimetype": "text/x-python",
   "name": "python",
   "nbconvert_exporter": "python",
   "pygments_lexer": "ipython3",
   "version": "3.8.8"
  }
 },
 "nbformat": 4,
 "nbformat_minor": 5
}

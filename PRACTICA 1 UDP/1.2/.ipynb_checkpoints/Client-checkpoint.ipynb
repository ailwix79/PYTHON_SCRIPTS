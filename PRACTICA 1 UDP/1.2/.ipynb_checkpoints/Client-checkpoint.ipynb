{
 "cells": [
  {
   "cell_type": "code",
   "execution_count": 1,
   "id": "ca31aba1",
   "metadata": {},
   "outputs": [
    {
     "name": "stdout",
     "output_type": "stream",
     "text": [
      "Please introduce a port number: 444\n"
     ]
    },
    {
     "ename": "NameError",
     "evalue": "name 'sercver_address' is not defined",
     "output_type": "error",
     "traceback": [
      "\u001b[1;31m---------------------------------------------------------------------------\u001b[0m",
      "\u001b[1;31mNameError\u001b[0m                                 Traceback (most recent call last)",
      "\u001b[1;32m<ipython-input-1-8946a1190c16>\u001b[0m in \u001b[0;36m<module>\u001b[1;34m\u001b[0m\n\u001b[0;32m     20\u001b[0m         \u001b[1;31m# Se le pasa al objeto socket el mensaje y la tupla (ip,puerto)\u001b[0m\u001b[1;33m\u001b[0m\u001b[1;33m\u001b[0m\u001b[1;33m\u001b[0m\u001b[0m\n\u001b[0;32m     21\u001b[0m         \u001b[1;31m# Esta instrucción devuelve el número de bytes enviados\u001b[0m\u001b[1;33m\u001b[0m\u001b[1;33m\u001b[0m\u001b[1;33m\u001b[0m\u001b[0m\n\u001b[1;32m---> 22\u001b[1;33m         \u001b[0msocket\u001b[0m\u001b[1;33m.\u001b[0m\u001b[0msendto\u001b[0m\u001b[1;33m(\u001b[0m\u001b[0mbytes_tx\u001b[0m\u001b[1;33m,\u001b[0m \u001b[0msercver_address\u001b[0m\u001b[1;33m)\u001b[0m\u001b[1;33m\u001b[0m\u001b[1;33m\u001b[0m\u001b[0m\n\u001b[0m\u001b[0;32m     23\u001b[0m \u001b[1;33m\u001b[0m\u001b[0m\n\u001b[0;32m     24\u001b[0m         \u001b[1;31m# Esta instrucción bloquea el código hasta que se reciba una respuesta\u001b[0m\u001b[1;33m\u001b[0m\u001b[1;33m\u001b[0m\u001b[1;33m\u001b[0m\u001b[0m\n",
      "\u001b[1;31mNameError\u001b[0m: name 'sercver_address' is not defined"
     ]
    }
   ],
   "source": [
    "# PRÁCTICA 1.2 CLIENTE\n",
    "\n",
    "import socket\n",
    "\n",
    "while True:\n",
    "    try:\n",
    "        port = int(input(\"Please introduce a port number: \"))\n",
    "        # Mensaje a enviar y codificado en bytes\n",
    "        msg = \"Hello Client\"\n",
    "        bytes_tx = str.encode(msg)\n",
    "\n",
    "        # Socket del servidor (ip,puerto)\n",
    "        server_address = (\"127.0.0.1\",port)\n",
    "\n",
    "        # Creación objeto socket, de la familia AF_INET, en función de la familia del socket\n",
    "        # son necesarios pasar más parámetros o la dirección del servidor en un formato distinto\n",
    "        # El este caso para la familia AF_INET solo es necesaria la tupla (host, puerto)\n",
    "        socket = socket.socket(family=socket.AF_INET, type=socket.SOCK_DGRAM)\n",
    "\n",
    "        # Se le pasa al objeto socket el mensaje y la tupla (ip,puerto)\n",
    "        # Esta instrucción devuelve el número de bytes enviados\n",
    "        socket.sendto(bytes_tx, server_address)\n",
    "\n",
    "        # Esta instrucción bloquea el código hasta que se reciba una respuesta\n",
    "        # recv(): Comunicaciones orientadas a conexión, devuelve solo los datos (TCP)\n",
    "        # recvfrom(): Comunicaciones no orientadas a conexión, devuelve los datos y la dirección del emisor (UDP)\n",
    "        bytes_rx = socket.recvfrom(1024)\n",
    "\n",
    "        print(\"Received message : \" + str(bytes_rx))\n",
    "\n",
    "        break\n",
    "        \n",
    "    except ValueError:\n",
    "        print(\"Port must be a number\")\n",
    "        continue\n",
    "\n",
    "# Finaliza el cliente\n",
    "socket.close()"
   ]
  },
  {
   "cell_type": "code",
   "execution_count": null,
   "id": "de0fc2f3",
   "metadata": {},
   "outputs": [],
   "source": []
  }
 ],
 "metadata": {
  "kernelspec": {
   "display_name": "Python 3",
   "language": "python",
   "name": "python3"
  },
  "language_info": {
   "codemirror_mode": {
    "name": "ipython",
    "version": 3
   },
   "file_extension": ".py",
   "mimetype": "text/x-python",
   "name": "python",
   "nbconvert_exporter": "python",
   "pygments_lexer": "ipython3",
   "version": "3.8.8"
  }
 },
 "nbformat": 4,
 "nbformat_minor": 5
}

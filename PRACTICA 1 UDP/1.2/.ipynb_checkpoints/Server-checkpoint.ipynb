{
 "cells": [
  {
   "cell_type": "code",
   "execution_count": 2,
   "id": "60883233",
   "metadata": {},
   "outputs": [
    {
     "name": "stdout",
     "output_type": "stream",
     "text": [
      "Please introduce a port number: 444\n"
     ]
    },
    {
     "ename": "AttributeError",
     "evalue": "module 'socket' has no attribute 'SOCKDGRAM'",
     "output_type": "error",
     "traceback": [
      "\u001b[1;31m---------------------------------------------------------------------------\u001b[0m",
      "\u001b[1;31mAttributeError\u001b[0m                            Traceback (most recent call last)",
      "\u001b[1;32m<ipython-input-2-249f1c3b357e>\u001b[0m in \u001b[0;36m<module>\u001b[1;34m\u001b[0m\n\u001b[0;32m     17\u001b[0m         \u001b[1;31m# son necesarios pasar más parámetros o la dirección del servidor en un formato distinto\u001b[0m\u001b[1;33m\u001b[0m\u001b[1;33m\u001b[0m\u001b[1;33m\u001b[0m\u001b[0m\n\u001b[0;32m     18\u001b[0m         \u001b[1;31m# El este caso para la familia AF_INET solo es necesaria la tupla (host, puerto)\u001b[0m\u001b[1;33m\u001b[0m\u001b[1;33m\u001b[0m\u001b[1;33m\u001b[0m\u001b[0m\n\u001b[1;32m---> 19\u001b[1;33m         \u001b[0msocket\u001b[0m \u001b[1;33m=\u001b[0m \u001b[0msocket\u001b[0m\u001b[1;33m.\u001b[0m\u001b[0msocket\u001b[0m\u001b[1;33m(\u001b[0m\u001b[0mfamily\u001b[0m\u001b[1;33m=\u001b[0m\u001b[0msocket\u001b[0m\u001b[1;33m.\u001b[0m\u001b[0mAF_INET\u001b[0m\u001b[1;33m,\u001b[0m \u001b[0mtype\u001b[0m\u001b[1;33m=\u001b[0m\u001b[0msocket\u001b[0m\u001b[1;33m.\u001b[0m\u001b[0mSOCKDGRAM\u001b[0m\u001b[1;33m)\u001b[0m\u001b[1;33m\u001b[0m\u001b[1;33m\u001b[0m\u001b[0m\n\u001b[0m\u001b[0;32m     20\u001b[0m \u001b[1;33m\u001b[0m\u001b[0m\n\u001b[0;32m     21\u001b[0m         \u001b[1;31m# Esta instrucción asocia el objeto socket creado anteriormente con una dirección\u001b[0m\u001b[1;33m\u001b[0m\u001b[1;33m\u001b[0m\u001b[1;33m\u001b[0m\u001b[0m\n",
      "\u001b[1;31mAttributeError\u001b[0m: module 'socket' has no attribute 'SOCKDGRAM'"
     ]
    }
   ],
   "source": [
    "# PRÁCTICA 1.2 SERVIDOR\n",
    "\n",
    "import socket\n",
    "\n",
    "while True:\n",
    "    try:\n",
    "        port = int(input(\"Please introduce a port number: \"))\n",
    "        \n",
    "        # Mensaje de respuesta al cliente\n",
    "        msg = \"Hello Client\"\n",
    "        bytes_tx = str.encode(msg)\n",
    "\n",
    "        # Dirección del servidor\n",
    "        server_address = (\"127.0.0.1\",port)\n",
    "\n",
    "        # Creación objeto socket, de la familia AF_INET, en función de la familia del socket\n",
    "        # son necesarios pasar más parámetros o la dirección del servidor en un formato distinto\n",
    "        # El este caso para la familia AF_INET solo es necesaria la tupla (host, puerto)\n",
    "        socket = socket.socket(family=socket.AF_INET, type=socket.SOCK_DGRAM)\n",
    "\n",
    "        # Esta instrucción asocia el objeto socket creado anteriormente con una dirección\n",
    "        # y puerto, se utilzia para definir el endpoint de la comunicación. \n",
    "        # El equivalente en el cliente sería la función connect(), utilzada para conectarse a un servidor.\n",
    "        socket.bind(server_address)\n",
    "        \n",
    "        print(\"Server started. Awaiting connection...\")\n",
    "        \n",
    "        while True:\n",
    "            # Se recibe una tupla con el mensaje y el socket (ip,puerto)\n",
    "            bytes_rx = socket.recvfrom(1024)\n",
    "            message = bytes_rx[0]\n",
    "            address = bytes_rx[1]\n",
    "            \n",
    "            print(\"Connection received from \" + str(address))\n",
    "            print(\"Message received : \" + str(message))\n",
    "            \n",
    "            # Se envía mensaje de respuesta al cliente\n",
    "            socket.sendto(bytes_tx, address)\n",
    "\n",
    "        break\n",
    "        \n",
    "    except ValueError:\n",
    "        print(\"Port must be a number\")\n",
    "        continue\n",
    "    \n",
    "# Finaliza el servidor\n",
    "socket.close()"
   ]
  },
  {
   "cell_type": "code",
   "execution_count": null,
   "id": "97bcc81e",
   "metadata": {},
   "outputs": [],
   "source": []
  }
 ],
 "metadata": {
  "kernelspec": {
   "display_name": "Python 3",
   "language": "python",
   "name": "python3"
  },
  "language_info": {
   "codemirror_mode": {
    "name": "ipython",
    "version": 3
   },
   "file_extension": ".py",
   "mimetype": "text/x-python",
   "name": "python",
   "nbconvert_exporter": "python",
   "pygments_lexer": "ipython3",
   "version": "3.8.8"
  }
 },
 "nbformat": 4,
 "nbformat_minor": 5
}

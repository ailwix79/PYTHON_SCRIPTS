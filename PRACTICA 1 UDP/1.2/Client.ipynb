{
 "cells": [
  {
   "cell_type": "code",
   "execution_count": 2,
   "id": "ca31aba1",
   "metadata": {},
   "outputs": [
    {
     "name": "stdout",
     "output_type": "stream",
     "text": [
      "Please introduce a port number: 444\n",
      "Received message : (b'Hello Client', ('127.0.0.1', 444))\n"
     ]
    }
   ],
   "source": [
    "# PRACTICA 1.2 CLIENTE\n",
    "\n",
    "import socket\n",
    "\n",
    "while True:\n",
    "    try:\n",
    "        port = int(input(\"Please introduce a port number: \"))\n",
    "        # Mensaje a enviar y codificado en bytes\n",
    "        msg = \"Hello Client\"\n",
    "        bytes_tx = str.encode(msg)\n",
    "\n",
    "        # Socket del servidor (ip,puerto)\n",
    "        server_address = (\"127.0.0.1\",port)\n",
    "\n",
    "        # Creacion objeto socket, de la familia AF_INET, en funcion \n",
    "        # de la familia del socket.\n",
    "        # Son necesarios pasar mas parametros o la direccion del servidor \n",
    "        # en un formato distinto.\n",
    "        # El este caso para la familia AF_INET solo es necesaria \n",
    "        # la tupla (host, puerto).\n",
    "        socket = socket.socket(family=socket.AF_INET, type=socket.SOCK_DGRAM)\n",
    "\n",
    "        # Se le pasa al objeto socket el mensaje y la tupla (ip,puerto)\n",
    "        # Esta instruccion devuelve el número de bytes enviados\n",
    "        socket.sendto(bytes_tx, server_address)\n",
    "\n",
    "        # Esta instrucción bloquea el código hasta que se reciba una respuesta\n",
    "        # recv(): Comunicaciones orientadas a conexión, \n",
    "        # devuelve solo los datos (TCP)\n",
    "        # recvfrom(): Comunicaciones no orientadas a conexión, \n",
    "        # devuelve los datos y la dirección del emisor (UDP)\n",
    "        bytes_rx = socket.recvfrom(1024)\n",
    "\n",
    "        print(\"Received message : \" + str(bytes_rx))\n",
    "\n",
    "        break\n",
    "        \n",
    "    except ValueError:\n",
    "        print(\"Port must be a number\")\n",
    "        continue\n",
    "\n",
    "# Finaliza el cliente\n",
    "socket.close()"
   ]
  },
  {
   "cell_type": "code",
   "execution_count": null,
   "id": "256f4367",
   "metadata": {},
   "outputs": [],
   "source": []
  }
 ],
 "metadata": {
  "kernelspec": {
   "display_name": "Python 3",
   "language": "python",
   "name": "python3"
  },
  "language_info": {
   "codemirror_mode": {
    "name": "ipython",
    "version": 3
   },
   "file_extension": ".py",
   "mimetype": "text/x-python",
   "name": "python",
   "nbconvert_exporter": "python",
   "pygments_lexer": "ipython3",
   "version": "3.8.8"
  }
 },
 "nbformat": 4,
 "nbformat_minor": 5
}

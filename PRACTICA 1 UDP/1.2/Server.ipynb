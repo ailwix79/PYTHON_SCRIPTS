{
 "cells": [
  {
   "cell_type": "code",
   "execution_count": null,
   "id": "60883233",
   "metadata": {},
   "outputs": [
    {
     "name": "stdout",
     "output_type": "stream",
     "text": [
      "Please introduce a port number: 444\n",
      "Server started. Awaiting connection...\n",
      "Connection received from ('127.0.0.1', 55125)\n",
      "Message received : b'Hello Client'\n"
     ]
    }
   ],
   "source": [
    "# PRACTICA 1.2 SERVIDOR\n",
    "\n",
    "import socket\n",
    "\n",
    "while True:\n",
    "    try:\n",
    "        port = int(input(\"Please introduce a port number: \"))\n",
    "        \n",
    "        # Mensaje de respuesta al cliente\n",
    "        msg = \"Hello Client\"\n",
    "        bytes_tx = str.encode(msg)\n",
    "\n",
    "        # Direccion del servidor\n",
    "        server_address = (\"127.0.0.1\",port)\n",
    "\n",
    "        # Creacion objeto socket, de la familia AF_INET, en funcion \n",
    "        # de la familia del socket.\n",
    "        # Son necesarios pasar más parametros o la dirección del servidor \n",
    "        # en un formato distinto.\n",
    "        # El este caso para la familia AF_INET solo es necesaria \n",
    "        # la tupla (host, puerto).\n",
    "        socket = socket.socket(family=socket.AF_INET, type=socket.SOCK_DGRAM)\n",
    "\n",
    "        # Esta instruccion asocia el objeto socket creado \n",
    "        # anteriormente con una direccion y puerto, \n",
    "        # se utiliza para definir el endpoint de la comunicacion. \n",
    "        # El equivalente en el cliente seria la funcion connect(), \n",
    "        # utilizada para conectarse a un servidor.\n",
    "        socket.bind(server_address)\n",
    "        \n",
    "        print(\"Server started. Awaiting connection...\")\n",
    "        \n",
    "        while True:\n",
    "            # Se recibe una tupla con el mensaje y el socket (ip,puerto)\n",
    "            bytes_rx = socket.recvfrom(1024)\n",
    "            message = bytes_rx[0]\n",
    "            address = bytes_rx[1]\n",
    "            \n",
    "            print(\"Connection received from \" + str(address))\n",
    "            print(\"Message received : \" + str(message))\n",
    "            \n",
    "            # Se envia mensaje de respuesta al cliente\n",
    "            socket.sendto(bytes_tx, address)\n",
    "\n",
    "        break\n",
    "        \n",
    "    except ValueError:\n",
    "        print(\"Port must be a number\")\n",
    "        continue\n",
    "    \n",
    "# Finaliza el servidor\n",
    "socket.close()"
   ]
  },
  {
   "cell_type": "code",
   "execution_count": null,
   "id": "a3a0fd8b",
   "metadata": {},
   "outputs": [],
   "source": []
  }
 ],
 "metadata": {
  "kernelspec": {
   "display_name": "Python 3",
   "language": "python",
   "name": "python3"
  },
  "language_info": {
   "codemirror_mode": {
    "name": "ipython",
    "version": 3
   },
   "file_extension": ".py",
   "mimetype": "text/x-python",
   "name": "python",
   "nbconvert_exporter": "python",
   "pygments_lexer": "ipython3",
   "version": "3.8.8"
  }
 },
 "nbformat": 4,
 "nbformat_minor": 5
}

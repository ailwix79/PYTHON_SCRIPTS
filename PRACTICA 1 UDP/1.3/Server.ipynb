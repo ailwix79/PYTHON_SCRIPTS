{
 "cells": [
  {
   "cell_type": "code",
   "execution_count": null,
   "id": "0fd4c5ce",
   "metadata": {},
   "outputs": [
    {
     "name": "stdout",
     "output_type": "stream",
     "text": [
      "Please provide a port number: 444\n",
      "Server started. Awaiting connection...\n",
      "Connection received from ('127.0.0.1', 50221)\n",
      "Message received from Client 1: hola\n",
      "Message length: 4\n"
     ]
    }
   ],
   "source": [
    "# PRÁCTICA 1.3 SERVIDOR\n",
    "\n",
    "import socket\n",
    "import pickle\n",
    "\n",
    "while True:\n",
    "    try:\n",
    "        port = int(input(\"Please provide a port number: \"))\n",
    "\n",
    "        server_address = (\"127.0.0.1\",port)\n",
    "        socket = socket.socket(family=socket.AF_INET, type=socket.SOCK_DGRAM)\n",
    "        socket.bind(server_address)\n",
    "\n",
    "        print(\"Server started. Awaiting connection...\")\n",
    "\n",
    "        while True:\n",
    "            bytes_rx = socket.recvfrom(1024)\n",
    "            \n",
    "            # En recepcion, se deserializa el objeto pickle para su manipulacion\n",
    "            request = pickle.loads(bytes_rx[0])\n",
    "            client_id = request[0];\n",
    "            message = request[1];\n",
    "            address = bytes_rx[1];\n",
    "            length = len(str(message));\n",
    "            print(\"Connection received from \" + str(address))\n",
    "            print(\"Message received from Client \" + str(client_id) + \": \" + str(message))\n",
    "            print(\"Message length: \" + str(length))\n",
    "            \n",
    "            # Se le envia al cliente la longitud de su mensaje como confirmacion\n",
    "            bytes_tx = pickle.dumps(length)\n",
    "            socket.sendto(bytes_tx,address);\n",
    "\n",
    "    except ValueError:\n",
    "        print(\"Port must be a number\")\n",
    "        continue"
   ]
  },
  {
   "cell_type": "code",
   "execution_count": null,
   "id": "b24931e6",
   "metadata": {},
   "outputs": [],
   "source": []
  }
 ],
 "metadata": {
  "kernelspec": {
   "display_name": "Python 3",
   "language": "python",
   "name": "python3"
  },
  "language_info": {
   "codemirror_mode": {
    "name": "ipython",
    "version": 3
   },
   "file_extension": ".py",
   "mimetype": "text/x-python",
   "name": "python",
   "nbconvert_exporter": "python",
   "pygments_lexer": "ipython3",
   "version": "3.8.8"
  }
 },
 "nbformat": 4,
 "nbformat_minor": 5
}

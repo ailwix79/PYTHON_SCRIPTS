{
 "cells": [
  {
   "cell_type": "code",
   "execution_count": 3,
   "id": "6e3616e8",
   "metadata": {},
   "outputs": [
    {
     "name": "stdout",
     "output_type": "stream",
     "text": [
      "Please provide a port number: 444\n",
      "Please write your message to send: hola\n",
      "Server is not responding\n"
     ]
    }
   ],
   "source": [
    "# PRACTICA 1.3 CLIENTE\n",
    "\n",
    "import socket\n",
    "import pickle\n",
    "\n",
    "client_id = 1\n",
    "\n",
    "while True:\n",
    "    try:\n",
    "        port = int(input(\"Please provide a port number: \"))\n",
    "        msg = str(input(\"Please write your message to send: \"))\n",
    "        \n",
    "        # Serializacion en objeto pickle para envio\n",
    "        bytes_tx = pickle.dumps((client_id,msg))\n",
    "\n",
    "        server_address = (\"127.0.0.1\",port)\n",
    "        socket = socket.socket(family=socket.AF_INET, type=socket.SOCK_DGRAM)\n",
    "        socket.sendto(bytes_tx,server_address);\n",
    "\n",
    "        bytes_rx = socket.recvfrom(1024)\n",
    "        \n",
    "        # En recepcion, se deserializa el objeto pickle para su manipulacion\n",
    "        message = pickle.loads(bytes_rx[0]);\n",
    "        address = bytes_rx[1];\n",
    "        print(\"Connection received from \" + str(address))\n",
    "        print(\"Message received: \" + str(message))\n",
    "        \n",
    "        break\n",
    "    except ValueError:\n",
    "        print(\"Port must be a number\")\n",
    "        continue\n",
    "    except ConnectionResetError:\n",
    "        print(\"Server is not responding\")\n",
    "        break\n",
    "        \n",
    "socket.close()"
   ]
  },
  {
   "cell_type": "code",
   "execution_count": null,
   "id": "8f62ec18",
   "metadata": {},
   "outputs": [],
   "source": []
  },
  {
   "cell_type": "code",
   "execution_count": null,
   "id": "8c579934",
   "metadata": {},
   "outputs": [],
   "source": []
  }
 ],
 "metadata": {
  "kernelspec": {
   "display_name": "Python 3",
   "language": "python",
   "name": "python3"
  },
  "language_info": {
   "codemirror_mode": {
    "name": "ipython",
    "version": 3
   },
   "file_extension": ".py",
   "mimetype": "text/x-python",
   "name": "python",
   "nbconvert_exporter": "python",
   "pygments_lexer": "ipython3",
   "version": "3.8.8"
  }
 },
 "nbformat": 4,
 "nbformat_minor": 5
}

{
 "cells": [
  {
   "cell_type": "markdown",
   "id": "f4415c5c",
   "metadata": {},
   "source": [
    "## PRÁCTICA RESTful\n",
    "\n",
    "Alejandro Manuel López Gómez"
   ]
  },
  {
   "cell_type": "markdown",
   "id": "6a98d32a",
   "metadata": {},
   "source": [
    "### PRÁCTICA 1.1"
   ]
  },
  {
   "cell_type": "code",
   "execution_count": null,
   "id": "397df821",
   "metadata": {},
   "outputs": [],
   "source": []
  },
  {
   "cell_type": "markdown",
   "id": "a360cd19",
   "metadata": {},
   "source": [
    "### PRÁCTICA 1.2"
   ]
  },
  {
   "cell_type": "code",
   "execution_count": null,
   "id": "92915184",
   "metadata": {},
   "outputs": [],
   "source": []
  }
 ],
 "metadata": {
  "kernelspec": {
   "display_name": "Python 3",
   "language": "python",
   "name": "python3"
  },
  "language_info": {
   "codemirror_mode": {
    "name": "ipython",
    "version": 3
   },
   "file_extension": ".py",
   "mimetype": "text/x-python",
   "name": "python",
   "nbconvert_exporter": "python",
   "pygments_lexer": "ipython3",
   "version": "3.8.8"
  }
 },
 "nbformat": 4,
 "nbformat_minor": 5
}

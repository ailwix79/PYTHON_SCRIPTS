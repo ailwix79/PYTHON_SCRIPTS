{
 "cells": [
  {
   "cell_type": "markdown",
   "metadata": {},
   "source": [
    "# First API REST Client using Beautiful Soup"
   ]
  },
  {
   "cell_type": "code",
   "execution_count": 1,
   "metadata": {},
   "outputs": [
    {
     "data": {
      "text/plain": [
       "{'date': 'Sun, 20 Feb 2022 18:19:06 GMT'}"
      ]
     },
     "execution_count": 1,
     "metadata": {},
     "output_type": "execute_result"
    }
   ],
   "source": [
    "import requests\n",
    "from bs4 import BeautifulSoup\n",
    "    \n",
    "#Loads HTML into soup.\n",
    "url = \"http://127.0.0.1:6878/api/v1.0/date\"\n",
    "response = requests.get(url)\n",
    "soup = BeautifulSoup(response.content, \"html.parser\")\n",
    "    \n",
    "#Locates target table with usefull info.\n",
    "import json\n",
    "newDictionary=json.loads(str(soup))\n",
    "newDictionary"
   ]
  },
  {
   "cell_type": "markdown",
   "metadata": {},
   "source": [
    "# First API REST Client using URLLIB"
   ]
  },
  {
   "cell_type": "code",
   "execution_count": 2,
   "metadata": {},
   "outputs": [
    {
     "name": "stdout",
     "output_type": "stream",
     "text": [
      "{\"date\":\"Sun, 20 Feb 2022 18:19:10 GMT\"}\n",
      "\n"
     ]
    }
   ],
   "source": [
    "import urllib\n",
    "\n",
    "url = 'http://127.0.0.1:6878/api/v1.0/date'\n",
    "f = urllib.request.urlopen(url)\n",
    "print(f.read().decode('utf-8'))"
   ]
  },
  {
   "cell_type": "markdown",
   "metadata": {},
   "source": [
    "# First API REST Client using REQUESTS"
   ]
  },
  {
   "cell_type": "code",
   "execution_count": 3,
   "metadata": {},
   "outputs": [
    {
     "data": {
      "text/plain": [
       "{'date': 'Sun, 20 Feb 2022 18:19:14 GMT'}"
      ]
     },
     "execution_count": 3,
     "metadata": {},
     "output_type": "execute_result"
    }
   ],
   "source": [
    "import requests\n",
    "\n",
    "url = 'http://127.0.0.1:6878/api/v1.0/date'\n",
    "r = requests.get(url)\n",
    "r.json()"
   ]
  },
  {
   "cell_type": "markdown",
   "metadata": {},
   "source": [
    "# API Call to get data fron FILE"
   ]
  },
  {
   "cell_type": "code",
   "execution_count": 7,
   "metadata": {},
   "outputs": [
    {
     "data": {
      "text/plain": [
       "{'data': {'Oceania': [{'Oceania_wiki': '/wiki/Oceania'},\n",
       "   {'Oceania_density': 4.5},\n",
       "   {'Oceania_population': '39.9'},\n",
       "   {'Oceania_most_populous_country': '0024,458,800 - \\xa0Australia'},\n",
       "   {'Oceania_most_populous_city': '5,005,400 -  Sydney'}],\n",
       "  'africa': [{'africa_wiki': '/wiki/Africa'},\n",
       "   {'africa_density': 36.7},\n",
       "   {'africa_population': '1,216'},\n",
       "   {'africa_most_populous_country': '0186,987,000 - \\xa0Nigeria'},\n",
       "   {'africa_most_populous_city': '21,000,000 -  Lagos'}],\n",
       "  'antartica': [{'antartica_wiki': '/wiki/Antarctica'},\n",
       "   {'antartica_density': 0.0003},\n",
       "   {'antartica_population': '0.004'},\n",
       "   {'antartica_most_populous_country': 'N/A'},\n",
       "   {'antartica_most_populous_city': '1,200 (non-permanent, varies) - McMurdo Station'}],\n",
       "  'asia': [{'asia_wiki': '/wiki/Asia'},\n",
       "   {'asia_density': 96.4},\n",
       "   {'asia_population': '4,436'},\n",
       "   {'asia_most_populous_country': '1,382,300,000 \\xa0China'},\n",
       "   {'asia_most_populous_city': '35,676,000/13,634,685 -  Greater Tokyo Area/Tokyo Metropolis'}],\n",
       "  'columns': [' Continent',\n",
       "   ' Density(inhabitants/km2)',\n",
       "   ' Population(millions)',\n",
       "   ' Most populous country',\n",
       "   ' Most populous city (metropolitan area)'],\n",
       "  'europe': [{'europe_wiki': '/wiki/Europe'},\n",
       "   {'europe_density': 72.9},\n",
       "   {'europe_population': '738'},\n",
       "   {'europe_most_populous_country': '0145,939,000 - \\xa0Russia'},\n",
       "   {'europe_most_populous_city': '16,855,000/12,506,468 -  Moscow metropolitan area/Moscow[17]'}],\n",
       "  'north_america': [{'north_america_wiki': '/wiki/North_America'},\n",
       "   {'north_america_density': 22.9},\n",
       "   {'north_america_population': '579'},\n",
       "   {'north_america_most_populous_country': '0324,991,600 - \\xa0United States'},\n",
       "   {'north_america_most_populous_city': '23,723,696/8,537,673 -  New York Metropolitan Area/New York City'}],\n",
       "  'south_america': [{'south_america_wiki': '/wiki/South_America'},\n",
       "   {'south_america_density': 22.8},\n",
       "   {'south_america_population': '422'},\n",
       "   {'south_america_most_populous_country': '0209,567,000 - \\xa0Brazil'},\n",
       "   {'south_america_most_populous_city': '27,640,577/11,316,149 -  Metro Area/São Paulo City'}],\n",
       "  'title': 'Population by continent (2016 estimates)'}}"
      ]
     },
     "execution_count": 7,
     "metadata": {},
     "output_type": "execute_result"
    }
   ],
   "source": [
    "import requests\n",
    "\n",
    "url = 'http://127.0.0.1:6878/api/v1.0/data'\n",
    "r = requests.get(url)\n",
    "r.json()"
   ]
  },
  {
   "cell_type": "code",
   "execution_count": 8,
   "metadata": {},
   "outputs": [
    {
     "data": {
      "text/plain": [
       "{'data': [{'africa_wiki': '/wiki/Africa'},\n",
       "  {'africa_density': 36.7},\n",
       "  {'africa_population': '1,216'},\n",
       "  {'africa_most_populous_country': '0186,987,000 - \\xa0Nigeria'},\n",
       "  {'africa_most_populous_city': '21,000,000 -  Lagos'}]}"
      ]
     },
     "execution_count": 8,
     "metadata": {},
     "output_type": "execute_result"
    }
   ],
   "source": [
    "import requests\n",
    "\n",
    "url = 'http://127.0.0.1:6878/api/v1.0/data?continent=africa'\n",
    "r = requests.get(url)\n",
    "r.json()"
   ]
  },
  {
   "cell_type": "markdown",
   "metadata": {},
   "source": [
    "# API REST Client to make POST actions"
   ]
  },
  {
   "cell_type": "code",
   "execution_count": 10,
   "metadata": {},
   "outputs": [
    {
     "data": {
      "text/plain": [
       "{'answer': 'User already exists'}"
      ]
     },
     "execution_count": 10,
     "metadata": {},
     "output_type": "execute_result"
    }
   ],
   "source": [
    "import requests\n",
    "r = requests.post('http://127.0.0.1:6878/api/v1.0/newusers', json={\"username\":\"francisco\",\"password\":\"5678\"})\n",
    "r.json()"
   ]
  },
  {
   "cell_type": "markdown",
   "metadata": {},
   "source": [
    "# API REST Client to make GET/POST actions with authentication"
   ]
  },
  {
   "cell_type": "code",
   "execution_count": 12,
   "metadata": {},
   "outputs": [
    {
     "name": "stdout",
     "output_type": "stream",
     "text": [
      "Couldn't connect\n"
     ]
    }
   ],
   "source": [
    "import requests\n",
    "from requests.auth import HTTPBasicAuth\n",
    "\n",
    "try:\n",
    "    r = requests.post('http://127.0.0.1:6878/api/v1.0/newusers',json={\"username\":\"laura\",\"password\":\"1111\"})\n",
    "    print(r.json())\n",
    "except:\n",
    "    print(\"Couldn't connect\")"
   ]
  },
  {
   "cell_type": "code",
   "execution_count": 13,
   "metadata": {},
   "outputs": [
    {
     "name": "stdout",
     "output_type": "stream",
     "text": [
      "Couldn't connect\n"
     ]
    }
   ],
   "source": [
    "import requests\n",
    "from requests.auth import HTTPBasicAuth\n",
    "\n",
    "try:\n",
    "    r = requests.get('http://127.0.0.1:6878/api/v1.0/data?continent=africa')\n",
    "    print(r.json())\n",
    "except:\n",
    "    print(\"Couldn't connect\")"
   ]
  },
  {
   "cell_type": "code",
   "execution_count": 14,
   "metadata": {},
   "outputs": [
    {
     "name": "stdout",
     "output_type": "stream",
     "text": [
      "{'answer': 'New user registered'}\n"
     ]
    }
   ],
   "source": [
    "import requests\n",
    "from requests.auth import HTTPBasicAuth\n",
    "\n",
    "try:\n",
    "    r = requests.post('http://127.0.0.1:6878/api/v1.0/newusers',json={\"username\":\"eduardo\",\"password\":\"2222\"},auth=HTTPBasicAuth('luis', '1234'))\n",
    "    print(r.json())\n",
    "except:\n",
    "    print(\"Couldn't connect\")"
   ]
  },
  {
   "cell_type": "code",
   "execution_count": 15,
   "metadata": {},
   "outputs": [
    {
     "name": "stdout",
     "output_type": "stream",
     "text": [
      "{'data': [{'africa_wiki': '/wiki/Africa'}, {'africa_density': 36.7}, {'africa_population': '1,216'}, {'africa_most_populous_country': '0186,987,000 - \\xa0Nigeria'}, {'africa_most_populous_city': '21,000,000 -  Lagos'}]}\n"
     ]
    }
   ],
   "source": [
    "import requests\n",
    "from requests.auth import HTTPBasicAuth\n",
    "\n",
    "try:\n",
    "    r = requests.get('http://127.0.0.1:6878/api/v1.0/data?continent=africa',auth=HTTPBasicAuth('luis', '1234'))\n",
    "    print(r.json())\n",
    "except:\n",
    "    print(\"Couldn't connect\")"
   ]
  }
 ],
 "metadata": {
  "kernelspec": {
   "display_name": "Python 3",
   "language": "python",
   "name": "python3"
  },
  "language_info": {
   "codemirror_mode": {
    "name": "ipython",
    "version": 3
   },
   "file_extension": ".py",
   "mimetype": "text/x-python",
   "name": "python",
   "nbconvert_exporter": "python",
   "pygments_lexer": "ipython3",
   "version": "3.8.8"
  }
 },
 "nbformat": 4,
 "nbformat_minor": 2
}

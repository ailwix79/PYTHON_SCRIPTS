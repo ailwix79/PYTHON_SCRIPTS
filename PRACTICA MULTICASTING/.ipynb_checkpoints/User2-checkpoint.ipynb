{
 "cells": [
  {
   "cell_type": "markdown",
   "id": "bcdb96c1",
   "metadata": {},
   "source": [
    "## PRÁCTICA MULTICASTING\n",
    "\n",
    "Alejandro Manuel López Gómez"
   ]
  },
  {
   "cell_type": "markdown",
   "id": "e8ae6578",
   "metadata": {},
   "source": [
    "### Práctica 1.1 Multicast\n",
    "Un participante se unirá al grupo, a continuación enviará un mensaje. Después se quedará a la espera de recibir mensajes de otros participantes, hasta que el mensaje recibido sea “Adiós”. (en ese momento todos los\n",
    "participantes saldrán del grupo de multidifusión en bloque)"
   ]
  },
  {
   "cell_type": "markdown",
   "id": "6f47f7e5",
   "metadata": {},
   "source": [
    "El siguiente código se emplea para enviar mensajes con la finalidad de probar el funcionamiento del \"Adios\" de la práctica 1.1. Si se ejecuta en User1, el resultado se deberá obervar en User2 y viceversa."
   ]
  },
  {
   "cell_type": "code",
   "execution_count": null,
   "id": "e36a193a",
   "metadata": {},
   "outputs": [
    {
     "name": "stdout",
     "output_type": "stream",
     "text": [
      "Input your username> blanca\n",
      "blanca> hola\n",
      "blanca> que tal\n",
      "blanca> pues yo me voy\n",
      "blanca> Adios\n"
     ]
    }
   ],
   "source": [
    "import socket\n",
    "import struct\n",
    "import pickle\n",
    "\n",
    "MCAST_GRP = '224.1.1.1'\n",
    "MCAST_PORT = 5007\n",
    "\n",
    "sock = socket.socket(socket.AF_INET, socket.SOCK_DGRAM, socket.IPPROTO_UDP)\n",
    "sock.setsockopt(socket.SOL_SOCKET, socket.SO_REUSEADDR,1)\n",
    "\n",
    "sock.bind(('',MCAST_PORT))\n",
    "\n",
    "mreq = struct.pack(\"4sl\", socket.inet_aton(MCAST_GRP), socket.INADDR_ANY)\n",
    "sock.setsockopt(socket.IPPROTO_IP, socket.IP_ADD_MEMBERSHIP, mreq)\n",
    "\n",
    "ttl = struct.pack('b',1)\n",
    "sock.setsockopt(socket.IPPROTO_IP, socket.IP_MULTICAST_TTL, ttl)\n",
    "\n",
    "username = str(input(\"Input your username> \"))\n",
    "\n",
    "while True:\n",
    "    msg = str(input(username + \"> \"))\n",
    "    sock.sendto(pickle.dumps((username,msg)), (MCAST_GRP, MCAST_PORT))"
   ]
  },
  {
   "cell_type": "code",
   "execution_count": 3,
   "id": "d1879105",
   "metadata": {},
   "outputs": [
    {
     "name": "stdout",
     "output_type": "stream",
     "text": [
      "Input your username> blanca\n",
      "blanca> hola\n",
      "Waiting for other participants...\n",
      "alex> que tal\n",
      "alex> todo bien?\n",
      "alex> ok pues me voy\n",
      "alex> Adios\n",
      "Closing chat room...\n"
     ]
    }
   ],
   "source": [
    "import socket\n",
    "import struct\n",
    "import pickle\n",
    "\n",
    "MCAST_GRP = '224.1.1.1'\n",
    "MCAST_PORT = 5007\n",
    "\n",
    "sock = socket.socket(socket.AF_INET, socket.SOCK_DGRAM, socket.IPPROTO_UDP)\n",
    "sock.setsockopt(socket.SOL_SOCKET, socket.SO_REUSEADDR,1)\n",
    "\n",
    "sock.bind(('',MCAST_PORT))\n",
    "\n",
    "mreq = struct.pack(\"4sl\", socket.inet_aton(MCAST_GRP), socket.INADDR_ANY)\n",
    "sock.setsockopt(socket.IPPROTO_IP, socket.IP_ADD_MEMBERSHIP, mreq)\n",
    "\n",
    "ttl = struct.pack('b',1)\n",
    "sock.setsockopt(socket.IPPROTO_IP, socket.IP_MULTICAST_TTL, ttl)\n",
    "\n",
    "username = str(input(\"Input your username> \"))\n",
    "msg = str(input(username + \"> \"))\n",
    "\n",
    "sock.sendto(pickle.dumps((username,msg)), (MCAST_GRP, MCAST_PORT))\n",
    "\n",
    "print(\"Waiting for other participants...\")\n",
    "\n",
    "while True:\n",
    "    res = pickle.loads(sock.recv(1024))\n",
    "    \n",
    "    # Evitar mostrar mensajes duplicados\n",
    "    if (res[0] != username):\n",
    "        print(res[0] + \"> \" + res[1])\n",
    "    \n",
    "    # En el momento en el que se reciba un \"Adios\" al ser todos receptores del mensaje todos los clientes\n",
    "    # ejecutarán este condicional, finalizando la sesión grupal\n",
    "    if (res[1] == \"Adios\"):\n",
    "        print(\"Closing chat room...\")\n",
    "        break\n",
    "\n",
    "sock.close()"
   ]
  },
  {
   "cell_type": "markdown",
   "id": "4c026e76",
   "metadata": {},
   "source": [
    "### PRÁCTICA 1.2 Multicast\n",
    "Se realizará una aplicación de chat utilizando la multidifusión IP. En este caso cada miembro\n",
    "del grupo, podrá enviar sucesivamente tantos mensajes como desee al resto de participantes,\n",
    "hasta que este decida salir del grupo con el mensaje “Quit”. (El resto de participantes seguirán\n",
    "permaneciendo en el grupo de difusión, y solo saldrán de este cuando ellos mismo decidan\n",
    "dejarlo mediante el mensaje “Quit”)."
   ]
  },
  {
   "cell_type": "code",
   "execution_count": 1,
   "id": "9f2aaeca",
   "metadata": {},
   "outputs": [
    {
     "name": "stdout",
     "output_type": "stream",
     "text": [
      "Input your username> blanca\n",
      "User blanca has joined :D\n",
      "blanca> holaaa\n",
      "alex> como va todo?\n",
      "blanca> muy bieeen y tu?\n",
      "alex> todo bien\n",
      "alex> bueno me voy\n",
      "alex> User alex has left :<\n",
      "blanca> ok pues yo tambien me voy\n",
      "blanca> Quit\n",
      "Leaving chat room\n"
     ]
    }
   ],
   "source": [
    "import threading\n",
    "import socket\n",
    "import struct\n",
    "import pickle\n",
    "\n",
    "stop = False\n",
    "\n",
    "# Función de lectura de mensajes\n",
    "def reader_func(sock,username):\n",
    "    global stop\n",
    "    try:\n",
    "        while stop == False:\n",
    "            res = pickle.loads(sock.recv(1024))\n",
    "\n",
    "            if (res[0] != username):\n",
    "                print(res[0] + \"> \" + res[1])\n",
    "    except OSError:\n",
    "        print(\"Stop reader\")\n",
    "        \n",
    "MCAST_GRP = '224.1.1.1'\n",
    "MCAST_PORT = 5007\n",
    "\n",
    "sock = socket.socket(socket.AF_INET, socket.SOCK_DGRAM, socket.IPPROTO_UDP)\n",
    "sock.setsockopt(socket.SOL_SOCKET, socket.SO_REUSEADDR,1)\n",
    "\n",
    "sock.bind(('',MCAST_PORT))\n",
    "\n",
    "mreq = struct.pack(\"4sl\", socket.inet_aton(MCAST_GRP), socket.INADDR_ANY)\n",
    "sock.setsockopt(socket.IPPROTO_IP, socket.IP_ADD_MEMBERSHIP, mreq)\n",
    "\n",
    "ttl = struct.pack('b',1)\n",
    "sock.setsockopt(socket.IPPROTO_IP, socket.IP_MULTICAST_TTL, ttl)\n",
    "\n",
    "# Se pide al usuario su nombre y se crean los mensajes de bienvenida y despedida\n",
    "username = str(input(\"Input your username> \"))\n",
    "welcome_msg = \"User \" + username + \" has joined :D\"\n",
    "bye_msg = \"User \" + username + \" has left :<\"\n",
    "\n",
    "# Se anuncia al grupo la llegada del usuario\n",
    "sock.sendto(pickle.dumps((username,welcome_msg)), (MCAST_GRP, MCAST_PORT))\n",
    "\n",
    "print(welcome_msg)\n",
    "\n",
    "# Comienza el lector en una hebra\n",
    "reader = threading.Thread(target=reader_func, args=(sock,username))\n",
    "reader.start()\n",
    "\n",
    "# Bucle principal de lectura\n",
    "while stop == False:\n",
    "    msg = str(input(username + \"> \"))\n",
    "\n",
    "    # En el momento en el que el propio usuario escriba \"Quit\", este y solo este abandonará la comunicación\n",
    "    if (msg == \"Quit\"):\n",
    "        print(\"Leaving chat room\")\n",
    "        sock.sendto(pickle.dumps((username,bye_msg)), (MCAST_GRP, MCAST_PORT))\n",
    "        \n",
    "        # Al poner a True la variable stop finalizan tanto la hebra como el bucle principal\n",
    "        stop = True\n",
    "    else:\n",
    "        sock.sendto(pickle.dumps((username,msg)), (MCAST_GRP, MCAST_PORT))\n",
    "\n",
    "sock.close()"
   ]
  }
 ],
 "metadata": {
  "kernelspec": {
   "display_name": "Python 3",
   "language": "python",
   "name": "python3"
  },
  "language_info": {
   "codemirror_mode": {
    "name": "ipython",
    "version": 3
   },
   "file_extension": ".py",
   "mimetype": "text/x-python",
   "name": "python",
   "nbconvert_exporter": "python",
   "pygments_lexer": "ipython3",
   "version": "3.8.8"
  }
 },
 "nbformat": 4,
 "nbformat_minor": 5
}

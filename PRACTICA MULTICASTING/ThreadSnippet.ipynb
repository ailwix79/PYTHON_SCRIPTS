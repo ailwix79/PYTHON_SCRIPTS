{
 "cells": [
  {
   "cell_type": "code",
   "execution_count": 10,
   "metadata": {},
   "outputs": [
    {
     "name": "stdout",
     "output_type": "stream",
     "text": [
      "thread1 2021-02-18 08:52:06.105199\n",
      "thread1 2021-02-18 08:52:07.131638\n",
      "thread1 2021-02-18 08:52:08.134640\n",
      "thread1 2021-02-18 08:52:09.135937\n",
      "thread1 2021-02-18 08:52:10.136923\n",
      "stop\n",
      "thread1 2021-02-18 08:52:11.140317\n",
      "Stop thread\n"
     ]
    }
   ],
   "source": [
    "import threading\n",
    "import time\n",
    "from datetime import datetime\n",
    " \n",
    "\n",
    "def time_function(name):\n",
    "    global stop \n",
    "    while stop==False:\n",
    "        time.sleep(1)\n",
    "        print(name,datetime.now())\n",
    "    print(\"Stop thread\")\n",
    "    \n",
    "    \n",
    "name=\"thread1\"\n",
    "stop=False\n",
    "reader = threading.Thread(target=time_function, args=(name,))\n",
    "reader.start()\n",
    "while stop==False:\n",
    "    command=input()\n",
    "    if command==\"stop\":\n",
    "        stop=True"
   ]
  }
 ],
 "metadata": {
  "kernelspec": {
   "display_name": "Python 3",
   "language": "python",
   "name": "python3"
  },
  "language_info": {
   "codemirror_mode": {
    "name": "ipython",
    "version": 3
   },
   "file_extension": ".py",
   "mimetype": "text/x-python",
   "name": "python",
   "nbconvert_exporter": "python",
   "pygments_lexer": "ipython3",
   "version": "3.8.8"
  }
 },
 "nbformat": 4,
 "nbformat_minor": 4
}

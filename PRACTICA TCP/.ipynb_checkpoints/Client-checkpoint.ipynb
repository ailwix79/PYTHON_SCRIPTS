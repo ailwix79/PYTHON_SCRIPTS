{
 "cells": [
  {
   "cell_type": "markdown",
   "id": "a5003ca8",
   "metadata": {},
   "source": [
    "## PRÁCTICA TCP. CLIENTES\n",
    "\n",
    "Alejandro Manuel López Gómez"
   ]
  },
  {
   "cell_type": "markdown",
   "id": "645cbac5",
   "metadata": {},
   "source": [
    "### PRÁCTICA TCP 1.1\n",
    "Probar y analizar el funcionamiento de una sencilla aplicación cliente/servidor TCP donde el\n",
    "servidor recibe un mensaje en el que el cliente se presenta y acto seguido el servidor le\n",
    "responde con un mensaje de bienvenida. El servidor debe permanecer a la escucha de más\n",
    "clientes hasta que reciba un mensaje de “EXIT” de alguno de ellos, en este caso, el servidor\n",
    "envía un mensaje de despedida “Bye” y se desconecta."
   ]
  },
  {
   "cell_type": "code",
   "execution_count": 2,
   "id": "aab52574",
   "metadata": {},
   "outputs": [
    {
     "name": "stdout",
     "output_type": "stream",
     "text": [
      "Message> EXIT\n",
      "Received data from server: Bye Client\n"
     ]
    }
   ],
   "source": [
    "import socket\n",
    "import sys\n",
    "\n",
    "msg = str(input(\"Message> \"))\n",
    "\n",
    "# Creacion objeto socket, de la familia AF_INET, en funcion de la familia del socket,\n",
    "# son necesarios pasar más parametros o la dirección del servidor en un formato distinto.\n",
    "# El este caso para la familia AF_INET solo es necesaria la tupla (IP, puerto).\n",
    "sock=socket.socket(socket.AF_INET, socket.SOCK_STREAM)\n",
    "\n",
    "# El socket creado se conecta con el servidor, la elección del puerto cliente es aleatoria\n",
    "# y realizada por la propia librería.\n",
    "sock.connect((\"127.0.0.1\",6780))\n",
    "\n",
    "# Envío del mensaje al servidor\n",
    "sock.sendall(msg.encode())\n",
    "\n",
    "# Esta instrucción bloquea el código hasta que se reciba una respuesta\n",
    "# recv(): Comunicaciones orientadas a conexión, devuelve solo los datos (TCP)\n",
    "# recvfrom(): Comunicaciones no orientadas a conexión, devuelve los datos y la dirección del emisor (UDP)\n",
    "# El parámetro pasado es el máximo tamaño de paquete en bytes permitido\n",
    "data=sock.recv(1024).decode()\n",
    "print(\"Received data from server: \" + data)\n",
    "sock.close()"
   ]
  },
  {
   "cell_type": "markdown",
   "id": "261b49ed",
   "metadata": {},
   "source": [
    "### PRÁCTICA TCP 1.2\n",
    "Tanto el cliente como el servidor sólo puedan recibir paquetes de un\n",
    "máximo de 20 bytes con la instrucción socket.recv(20). Esto implica que el código Python debe\n",
    "iterar hasta que se ha recibido el mensaje completo"
   ]
  },
  {
   "cell_type": "code",
   "execution_count": 3,
   "id": "69f55b5d",
   "metadata": {},
   "outputs": [
    {
     "name": "stdout",
     "output_type": "stream",
     "text": [
      "Message> Hola sercidor, esto es un mensaje muy pero que muy largo\n",
      "Connecting to server...\n",
      "Server> Hello Client, this i\n",
      "Server> s a long message tha\n",
      "Server> t you will received \n",
      "Server> in chunks of 20 byte\n",
      "Server> s\n",
      "Closing connection\n"
     ]
    }
   ],
   "source": [
    "import socket\n",
    "import sys\n",
    "\n",
    "# En este caso solo se permiten mensajes de máximo 20 bytes. Aunque la MTU se especifique a 20 bytes,\n",
    "# La librería socket implementa una cola que permite la recepción de mensajes más largos.\n",
    "# Por tanto, no se elimina el mensaje si es más largo, si no que la recepción se realiza de 20 en 20 bytes.\n",
    "MTU = 20\n",
    "msg = str(input(\"Message> \"))\n",
    "\n",
    "sock=socket.socket(socket.AF_INET, socket.SOCK_STREAM)\n",
    "sock.connect((\"127.0.0.1\",6780))\n",
    "print(\"Connecting to server...\")\n",
    "\n",
    "sock.sendall(msg.encode())\n",
    "\n",
    "while True:\n",
    "    data=sock.recv(MTU).decode()\n",
    "    if (len(data) == MTU):\n",
    "        print(\"Server> \" + str(data))\n",
    "    else:\n",
    "        print(\"Server> \" + str(data))\n",
    "        sock.close()\n",
    "        break\n",
    "\n",
    "print(\"Closing connection\")"
   ]
  },
  {
   "cell_type": "markdown",
   "id": "0eb61d4b",
   "metadata": {},
   "source": [
    "### PRÁCTICA TCP 1.3\n",
    "El servidor debe devolver la hora al cliente. El cliente debe recibirlos, calcular la\n",
    "diferencia respecto a la hora local y almacenar la diferencia de tiempos en una lista. Al final, se\n",
    "debe proporcionar el tiempo necesario para realizar 100.000 consultas de tiempo y\n",
    "proporcionar el valor promedio de las diferencias de tiempo entre la hora del servidor y la del\n",
    "cliente."
   ]
  },
  {
   "cell_type": "code",
   "execution_count": 8,
   "id": "9c079ab2",
   "metadata": {},
   "outputs": [
    {
     "name": "stdout",
     "output_type": "stream",
     "text": [
      "Starting 100000 calls...\n",
      "Elapse time: 8.798996210098267\n",
      "Average difference time: 0:0:5.999940000599994e-05:5.43890561094389\n"
     ]
    }
   ],
   "source": [
    "import socket\n",
    "import sys\n",
    "import datetime\n",
    "from statistics import mean\n",
    "import time\n",
    "\n",
    "\n",
    "msg = \"TIME\"\n",
    "num = 0\n",
    "\n",
    "hour = []\n",
    "minute = []\n",
    "second = []\n",
    "microsecond = []\n",
    "\n",
    "sock=socket.socket(socket.AF_INET, socket.SOCK_STREAM)\n",
    "sock.connect((\"127.0.0.1\",6780))\n",
    "\n",
    "start = time.time()\n",
    "print(\"Starting 100000 calls...\")\n",
    "\n",
    "while (num <= 100000):\n",
    "    num += 1\n",
    "    sock.sendall(msg.encode())\n",
    "    res=sock.recv(1024).decode()\n",
    "    # Se parsea la información recibida en string a un objeto datetime\n",
    "    data = datetime.datetime.strptime(res,\"%Y-%m-%d %H:%M:%S.%f\")\n",
    "    \n",
    "    # Cálculo de los tiempos\n",
    "    hour.append(data.hour - datetime.datetime.now().hour)\n",
    "    minute.append(data.minute - datetime.datetime.now().minute)\n",
    "    second.append(data.second - datetime.datetime.now().second)\n",
    "    microsecond.append(data.microsecond - datetime.datetime.now().microsecond)\n",
    "\n",
    "end = time.time()\n",
    "\n",
    "print(\"Elapse time: \" + str(end - start))\n",
    "print(\"Average difference time: \" + str(abs(mean(hour))) + \":\" + str(abs(mean(minute))) + \":\" + str(abs(mean(second))) + \":\" + str(abs(mean(microsecond))))\n",
    "sock.close()"
   ]
  },
  {
   "cell_type": "markdown",
   "id": "e7b5cf62",
   "metadata": {},
   "source": [
    "El resultado obtenido en UDP es el siguiente\n",
    "\n",
    "Elapsed time is 20.745611429214478\\\n",
    "Average difference time: 0:0:5e-05:1.48\n",
    "\n",
    "Comparando resultados, se observa que el tiempo medio obtenido en TCP es mayor, lo que tiene sentido. Sin embargo el tiempo de ejecución de TCP es menor (8 segundos frente a 20 de UDP), lo que es contradictorio con la forma de trabajar de TCP, ya que es necesaria la recepción de la confirmación del paquete (ACK), lo que retrasa la comunicación, a diferencia de UDP que no espera ninguna confirmación.\n",
    "\n",
    "También es cierto que para lograr mayor precisión, se deberían ejecutar estos códigos varias veces y hacer la media de los resultados.\n",
    "\n",
    "Estos valores sin embargo carecen de relevancia, pues han sido obtenidos ejecutando los procesos cliente y servidor en la misma máquina. Para obtener medidas más realistas (y probablemente con mayor sentido), esta prueba debería realizarse entre dos equipos diferentes en la misma red ,es decir, con al menos un router entre ellos.\n"
   ]
  },
  {
   "cell_type": "markdown",
   "id": "eac35a2d",
   "metadata": {},
   "source": [
    "### PRÁCTICA TCP 2.1\n",
    "Codificar un programa cliente/servidor que permita la recepción desde el servidor, de un\n",
    "fichero solicitado por un cliente. Realmente se envía el contenido del fichero para que el cliente cree un fichero nuevo y escriba en él el contenido enviado por el servidor"
   ]
  },
  {
   "cell_type": "code",
   "execution_count": 1,
   "id": "baed62de",
   "metadata": {},
   "outputs": [
    {
     "name": "stdout",
     "output_type": "stream",
     "text": [
      "Connecting to server...\n",
      "Message> Hola\n",
      "Server> Command not found\n",
      "Message> GET data.txt\n",
      "Downloading file contents...\n",
      "Content saved in file client.txt\n",
      "Message> BYE\n",
      "Closing connection\n"
     ]
    }
   ],
   "source": [
    "import socket\n",
    "import sys\n",
    "\n",
    "MTU = 1024\n",
    "\n",
    "sock=socket.socket(socket.AF_INET, socket.SOCK_STREAM)\n",
    "sock.connect((\"127.0.0.1\",6780))\n",
    "print(\"Connecting to server...\")\n",
    "\n",
    "try:\n",
    "    while True:\n",
    "        msg = str(input(\"Message> \"))\n",
    "        sock.sendall(msg.encode())\n",
    "        \n",
    "        data=sock.recv(MTU).decode()\n",
    "        \n",
    "        if (msg == \"BYE\"):\n",
    "            sock.close()\n",
    "            print(\"Closing connection\")\n",
    "            break\n",
    "        \n",
    "        # Adición de la instrucción GET. El cliente envía GET \"nombre fichero\", el cliente recibe la información\n",
    "        # y la introduce en un fichero.\n",
    "        elif (msg[0:3] == \"GET\"):\n",
    "            if (str(data) == \"File not found\"):\n",
    "                print(\"Server> File not found by server\")\n",
    "            else:\n",
    "                print(\"Downloading file contents...\")\n",
    "                with open('client.txt', 'w') as f:\n",
    "                    f.write(data)\n",
    "                print(\"Content saved in file client.txt\")\n",
    "        else:\n",
    "            print(\"Server> \" + str(data))\n",
    "    \n",
    "except ConnectionResetError:\n",
    "    print(\"Lost connection\")"
   ]
  },
  {
   "cell_type": "markdown",
   "id": "c062ea6c",
   "metadata": {},
   "source": [
    "### PRÁCTICA TCP 2.2\n",
    "Modificación del programa anterior para poder modificar el fichero del servidor desde el cliente. Se incluyen dos instrucciones nuevas, LOCK y PUT"
   ]
  },
  {
   "cell_type": "code",
   "execution_count": 2,
   "id": "04041c6b",
   "metadata": {},
   "outputs": [
    {
     "name": "stdout",
     "output_type": "stream",
     "text": [
      "Connecting to server...\n",
      "Message> LOCK data.txt\n",
      "Server> SUCCESS: File has been asociated with your address\n",
      "Message> PUT client.txt\n",
      "Server> File has been modified\n",
      "Message> BYE\n",
      "Closing connection\n"
     ]
    }
   ],
   "source": [
    "import socket\n",
    "import sys\n",
    "\n",
    "MTU = 1024\n",
    "\n",
    "sock=socket.socket(socket.AF_INET, socket.SOCK_STREAM)\n",
    "sock.connect((\"127.0.0.1\",6780))\n",
    "print(\"Connecting to server...\")\n",
    "\n",
    "try:\n",
    "    while True:\n",
    "        msg = str(input(\"Message> \"))\n",
    "        \n",
    "        # Instrucción PUT, el cliente envía las modificaciones del fichero y espera a la \n",
    "        # respuesta del cliente.\n",
    "        \n",
    "        # Esta instrucción se pone la primera por motivos de orden de ejecución de código, ya que\n",
    "        # si ocurre después del envío de \"msg\", el servidor interpretará que ese msg es el contenido\n",
    "        # a modificar.\n",
    "        if (msg[0:3] == \"PUT\"):\n",
    "            filename = msg[4:]\n",
    "            with open(filename) as f:\n",
    "                contents = f.read()\n",
    "            sock.sendall(contents.encode())\n",
    "            data=sock.recv(MTU).decode()\n",
    "            print(\"Server> \" + str(data))\n",
    "        else:\n",
    "            sock.sendall(msg.encode())\n",
    "            data=sock.recv(MTU).decode()\n",
    "\n",
    "            if (msg == \"BYE\"):\n",
    "                sock.close()\n",
    "                print(\"Closing connection\")\n",
    "                break\n",
    "            elif (msg[0:3] == \"GET\"):\n",
    "                print(\"Downloading file contents...\")\n",
    "                with open('client_file.txt', 'w') as f:\n",
    "                    f.write(data)\n",
    "                print(\"Content saved in file client.txt\")\n",
    "            else:\n",
    "                print(\"Server> \" + str(data))\n",
    "    \n",
    "except ConnectionResetError:\n",
    "    print(\"Lost connection\")"
   ]
  }
 ],
 "metadata": {
  "kernelspec": {
   "display_name": "Python 3",
   "language": "python",
   "name": "python3"
  },
  "language_info": {
   "codemirror_mode": {
    "name": "ipython",
    "version": 3
   },
   "file_extension": ".py",
   "mimetype": "text/x-python",
   "name": "python",
   "nbconvert_exporter": "python",
   "pygments_lexer": "ipython3",
   "version": "3.8.8"
  }
 },
 "nbformat": 4,
 "nbformat_minor": 5
}

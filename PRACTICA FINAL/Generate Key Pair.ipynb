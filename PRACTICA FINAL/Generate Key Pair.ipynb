{
 "cells": [
  {
   "cell_type": "markdown",
   "id": "66dcce7f",
   "metadata": {},
   "source": [
    "## Generación de par de claves y transacciones\n",
    "### Alejandro Manuel López Gómez\n"
   ]
  },
  {
   "cell_type": "markdown",
   "id": "0757ddeb",
   "metadata": {},
   "source": [
    "Este código simula la aplicación de usuario de un endpoint de la red blockchain y demuestra las funcionalidades básicas que debería tener (Generacion de par de claves y firma de transacciones). Este proceso debería ser transparente para el usuario, donde solamente se le pediría su nombre y contenido de la transacción.\n",
    "\n",
    "- Al ejecutar el código por primera vez, debe indicarse que no se tiene un par de claves generado, ya que el programa generará un par nuevo. En ejecuciones posteriores se debe pasar el par de claves generado anteriormente.\n",
    "- Aunque en este código no se realiza la asociación usuario - módulo, esta si será realizada al registrar el usuario con el módulo generado. Por tanto es importante que el usuario recuerde su usuario y módulo a la hora de crear transacciones."
   ]
  },
  {
   "cell_type": "markdown",
   "id": "f4335b40",
   "metadata": {},
   "source": [
    "Para realizar la firma, se debe obtener el hash de las transacciones y encriptarlo con la clave privada. La clave pública es la combinación de e y n. Como el exponente e ya es conocido por los nodos (normalmente se emplea un valor estándar como 65537), solamente es necesario al registrarse enviar el valor del módulo n. El valor de la clave privada d nunca debe ser expuesto, ya que es el que se emplea para realizar las firmas."
   ]
  },
  {
   "cell_type": "code",
   "execution_count": 1,
   "id": "004274c5",
   "metadata": {},
   "outputs": [
    {
     "name": "stdout",
     "output_type": "stream",
     "text": [
      "Do you have a generated RSA key pair? (Y/N) N\n",
      "Generating key pair...\n",
      "\n",
      "GENERATED KEY PAIR INFORMATION (REMEMBER TO SAVE THIS!!)\n",
      "\n",
      "=========== PUBLIC KEY INFORMATION ===========\n",
      "\n",
      "Modulus (PASTE this number when REGISTERING USER): 106360015573337743395292516124736373872553915967421616071445511579665909273661469268346392112178028629779670467239007124455885928592039064886102839980550587825099043650203963772592668407178112493541286250854473469520833719987521038983914554750834263939414979678789031805715597312068807325968822016604580523701\n",
      "\n",
      "=========== PRIVATE KEY INFORMATION ===========\n",
      "\n",
      "Do NOT share this value: 32029559902885296910897555552402415044154051688863283561744489624735437774463017188459715805208440621898035862816867488720285711684887666273893001660987625082408328884255279110426055399427706141413355458970839439753930082285078961894532780893795495742597398198041036644246381464598380743277006485563748156673\n",
      "\n",
      "=========== TRANSACTION GENERATION ===========\n",
      "\n",
      "Introduce your username (REMEMBER THIS FOR FUTURE TRANSACTIONS)>juan\n",
      "\n",
      "\n",
      "Creating Transaction  1  for user  juan\n",
      "\n",
      "Introduce your transaction content> hola\n",
      "\n",
      "Transaction hash (To be encrypted): 95346089877017387768969569942262022768305861825988706355867793464352182076691\n",
      "\n",
      "Signature (PASTE this number as your TRANSACTION SIGNATURE): 35294980934578985723607962944000945822424372351766451641669426986602452443691739003016351527742491550708517556021623549358261857885943389237975758425502965105016269939332833114660449107583238342932133942341962307967382028879619551532867804329323768496420511078815207865208946373732299385303814017361937885423\n",
      "Print decrypted signature? (Y/N) (Proof of Concept) Y\n",
      "\n",
      "Decrypted Signature: 95346089877017387768969569942262022768305861825988706355867793464352182076691\n",
      "\n",
      "Do you want to create another transaction signature? (Y/N) N\n",
      "\n",
      "Goodbye (REMEMBER TO SAVE YOUR GENERATED KEY PAIR!)\n"
     ]
    }
   ],
   "source": [
    "from Crypto.Util.number import getPrime\n",
    "import libnum\n",
    "import json\n",
    "import hashlib\n",
    "\n",
    "# Exponent\n",
    "e = 0x10001\n",
    "\n",
    "generated = input(\"Do you have a generated RSA key pair? (Y/N) \")\n",
    "\n",
    "try:\n",
    "    if generated.upper() == \"Y\":\n",
    "        n = int(input(\"Modulus value> \"))\n",
    "        d = int(input(\"Private key> \"))\n",
    "    else:\n",
    "        print(\"Generating key pair...\")\n",
    "        # RSA prime number generation\n",
    "        p, q = [getPrime(512) for i in range(2)]\n",
    "\n",
    "        # Modulus generation (with the exponent e it is know as the public key)\n",
    "        n = p * q\n",
    "\n",
    "        # private key generation\n",
    "        phi = (p - 1) * (q - 1)\n",
    "        d = libnum.invmod(e,phi)\n",
    "\n",
    "        print(\"\\nGENERATED KEY PAIR INFORMATION (REMEMBER TO SAVE THIS!!)\")\n",
    "        print(\"\\n=========== PUBLIC KEY INFORMATION ===========\")\n",
    "        print(\"\\nModulus (PASTE this number when REGISTERING USER):\",n)\n",
    "        print(\"\\n=========== PRIVATE KEY INFORMATION ===========\")\n",
    "        print(\"\\nDo NOT share this value:\",d)\n",
    "\n",
    "    print(\"\\n=========== TRANSACTION GENERATION ===========\")\n",
    "    finish = False\n",
    "    i = 0\n",
    "    author = input(\"\\nIntroduce your username (REMEMBER THIS FOR FUTURE TRANSACTIONS)>\")\n",
    "\n",
    "    while finish == False:\n",
    "        i += 1\n",
    "        print(\"\\n\\nCreating Transaction \", i, \" for user \", author)\n",
    "        transaction = input(\"\\nIntroduce your transaction content> \")\n",
    "\n",
    "        # To sign a message, obtain the hash and encrypt with private key\n",
    "        transaction = {\"author\" : author, \"content\" : transaction}\n",
    "\n",
    "        # Hash of transaction\n",
    "        transaction_hash = int(hashlib.sha256(json.dumps(transaction,sort_keys=True).encode('utf8')).hexdigest(),16)\n",
    "        print(\"\\nTransaction hash (To be encrypted):\",transaction_hash)\n",
    "\n",
    "        # Creating signature by encrypting the hash\n",
    "        signature = pow(transaction_hash,d,n)\n",
    "\n",
    "        print(\"\\nSignature (PASTE this number as your TRANSACTION SIGNATURE):\",signature)\n",
    "\n",
    "        print_poc = input(\"Print decrypted signature? (Y/N) (Proof of Concept) \")\n",
    "        if (print_poc.upper() == 'Y'):\n",
    "            # Proof of concept: by employing the public key to decrypt we obtain the same hash\n",
    "            decrypted = pow(signature,e,n)\n",
    "            print(\"\\nDecrypted Signature:\",decrypted)\n",
    "            # This decrypted hash would now be compared with the transaction hash to verify the signature\n",
    "\n",
    "        is_finished = input(\"\\nDo you want to create another transaction signature? (Y/N) \")\n",
    "        if (is_finished.upper() != 'Y'):\n",
    "            print(\"\\nGoodbye (REMEMBER TO SAVE YOUR GENERATED KEY PAIR!)\")\n",
    "            finish = True\n",
    "            \n",
    "except ValueError:\n",
    "    print(\"An unexpected character was given as an input\")\n",
    "    raise"
   ]
  }
 ],
 "metadata": {
  "kernelspec": {
   "display_name": "Python 3",
   "language": "python",
   "name": "python3"
  },
  "language_info": {
   "codemirror_mode": {
    "name": "ipython",
    "version": 3
   },
   "file_extension": ".py",
   "mimetype": "text/x-python",
   "name": "python",
   "nbconvert_exporter": "python",
   "pygments_lexer": "ipython3",
   "version": "3.8.8"
  }
 },
 "nbformat": 4,
 "nbformat_minor": 5
}

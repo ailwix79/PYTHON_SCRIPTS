{
 "cells": [
  {
   "cell_type": "markdown",
   "id": "66dcce7f",
   "metadata": {},
   "source": [
    "## Generación de par de claves y transacciones\n",
    "### Alejandro Manuel López Gómez\n"
   ]
  },
  {
   "cell_type": "markdown",
   "id": "7cefef9c",
   "metadata": {},
   "source": [
    "Este código simula la aplicación de usuario de un endpoint de la red blockchain y demuestra las funcionalidades básicas que debería tener (Generacion de par de claves y firma de transacciones). Este proceso debería ser transparente para el usuario, donde solamente se le pediría su nombre y contenido de la transacción.\n",
    "\n",
    "- Al ejecutar el código por primera vez, debe indicarse que no se tiene un par de claves generado, ya que el programa generará un par nuevo. En ejecuciones posteriores se debe pasar el par de claves generado anteriormente.\n",
    "- Aunque en este código no se realiza la asociación usuario - módulo, esta si será realizada al registrar el usuario con el módulo generado. Por tanto es importante que el usuario recuerde su usuario y módulo a la hora de crear transacciones."
   ]
  },
  {
   "cell_type": "markdown",
   "id": "f4335b40",
   "metadata": {},
   "source": [
    "Para realizar la firma, se debe obtener el hash de las transacciones y encriptarlo con la clave privada. La clave pública es la combinación de e y n. Como el exponente e ya es conocido por los nodos (normalmente se emplea un valor estándar como 65537), solamente es necesario al registrarse enviar el valor del módulo n. El valor de la clave privada d nunca debe ser expuesto, ya que es el que se emplea para realizar las firmas."
   ]
  },
  {
   "cell_type": "code",
   "execution_count": 4,
   "id": "004274c5",
   "metadata": {},
   "outputs": [
    {
     "name": "stdout",
     "output_type": "stream",
     "text": [
      "Do you have a generated RSA key pair? (Y/N) \n",
      "Generating key pair...\n",
      "\n",
      "GENERATED KEY PAIR INFORMATION (REMEMBER TO SAVE THIS!!)\n",
      "\n",
      "=========== PUBLIC KEY INFORMATION ===========\n",
      "\n",
      "Modulus (PASTE this number when REGISTERING USER): 81892860690793679195592243626945101077688448286566413086444396429126264725322990673591107733940112315365128931837355321544092674510132255118224197156840282084784995546801388655180086048324819856815156226272221846047194657713925452020287062308180301161733859600805516056643033894002470719363326700667412513263\n",
      "\n",
      "=========== PRIVATE KEY INFORMATION ===========\n",
      "\n",
      "Do NOT share this value: 80757004451296426431675778890126310213297054120027070890500457030708946651024219009915713423395663193576415652330509478931773217697496488758725504888113166026989821118869399646125449247089552564499275050521072903889909335641864878894980442486755698462850333586278208537048306491951643474749991036872610488225\n",
      "\n",
      "\n",
      "Now that you have a key pair, you can create and sign transactions. Lets create some...\n",
      "\n",
      "=========== TRANSACTION GENERATION ===========\n",
      "\n",
      "Introduce your username (REMEMBER THIS FOR FUTURE TRANSACTIONS)>\n",
      "\n",
      "\n",
      "Creating Transaction  1  for user  \n",
      "\n",
      "Introduce your transaction content> \n",
      "\n",
      "Transaction hash (To be encrypted): 34060667947996537539873472269738976410867192340751475893356239538398206553641\n",
      "\n",
      "Signature (PASTE this number as your TRANSACTION SIGNATURE): 73577498073770786496328358952362561822834184061610307305346246409934255961665349409291551805450124468138624457370854688955745947893104836295318943360316750678439261620420410737651177090488085144091010148509269390486417313747522783981563368832907064910771631802956067390736860698382015396253338378173246193489\n",
      "Print decrypted signature? (Y/N) (Proof of Concept) \n",
      "\n",
      "Do you want to create another transaction signature? (Y/N) \n",
      "\n",
      "Goodbye (REMEMBER TO SAVE YOUR GENERATED KEY PAIR!)\n"
     ]
    }
   ],
   "source": [
    "from Crypto.Util.number import getPrime\n",
    "import libnum\n",
    "import json\n",
    "import hashlib\n",
    "\n",
    "# Exponent\n",
    "e = 0x10001\n",
    "\n",
    "generated = input(\"Do you have a generated RSA key pair? (Y/N) \")\n",
    "\n",
    "try:\n",
    "    if generated.upper() == \"Y\":\n",
    "        n = int(input(\"Modulus value> \"))\n",
    "        d = int(input(\"Private key> \"))\n",
    "    else:\n",
    "        print(\"Generating key pair...\")\n",
    "        # RSA prime number generation\n",
    "        p, q = [getPrime(512) for i in range(2)]\n",
    "\n",
    "        # Modulus generation (with the exponent e it is know as the public key)\n",
    "        n = p * q\n",
    "\n",
    "        # private key generation\n",
    "        phi = (p - 1) * (q - 1)\n",
    "        d = libnum.invmod(e,phi)\n",
    "\n",
    "        print(\"\\nGENERATED KEY PAIR INFORMATION (REMEMBER TO SAVE THIS!!)\")\n",
    "        print(\"\\n=========== PUBLIC KEY INFORMATION ===========\")\n",
    "        print(\"\\nModulus (PASTE this number when REGISTERING USER):\",n)\n",
    "        print(\"\\n=========== PRIVATE KEY INFORMATION ===========\")\n",
    "        print(\"\\nDo NOT share this value:\",d)\n",
    "\n",
    "    print(\"\\n=========== TRANSACTION GENERATION ===========\")\n",
    "    finish = False\n",
    "    i = 0\n",
    "    author = input(\"\\nIntroduce your username (REMEMBER THIS FOR FUTURE TRANSACTIONS)>\")\n",
    "\n",
    "    while finish == False:\n",
    "        i += 1\n",
    "        print(\"\\n\\nCreating Transaction \", i, \" for user \", author)\n",
    "        transaction = input(\"\\nIntroduce your transaction content> \")\n",
    "\n",
    "        # To sign a message, obtain the hash and encrypt with private key\n",
    "        transaction = {\"author\" : author, \"content\" : transaction}\n",
    "\n",
    "        # Hash of transaction\n",
    "        transaction_hash = int(hashlib.sha256(json.dumps(transaction,sort_keys=True).encode('utf8')).hexdigest(),16)\n",
    "        print(\"\\nTransaction hash (To be encrypted):\",transaction_hash)\n",
    "\n",
    "        # Creating signature by encrypting the hash\n",
    "        signature = pow(transaction_hash,d,n)\n",
    "\n",
    "        print(\"\\nSignature (PASTE this number as your TRANSACTION SIGNATURE):\",signature)\n",
    "\n",
    "        print_poc = input(\"Print decrypted signature? (Y/N) (Proof of Concept) \")\n",
    "        if (print_poc.upper() == 'Y'):\n",
    "            # Proof of concept: by employing the public key to decrypt we obtain the same hash\n",
    "            decrypted = pow(signature,e,n)\n",
    "            print(\"\\nDecrypted Signature:\",decrypted)\n",
    "            # This decrypted hash would now be compared with the transaction hash to verify the signature\n",
    "\n",
    "        is_finished = input(\"\\nDo you want to create another transaction signature? (Y/N) \")\n",
    "        if (is_finished.upper() != 'Y'):\n",
    "            print(\"\\nGoodbye (REMEMBER TO SAVE YOUR GENERATED KEY PAIR!)\")\n",
    "            finish = True\n",
    "            \n",
    "except ValueError:\n",
    "    print(\"An unexpected character was given as an input\")\n",
    "    raise"
   ]
  }
 ],
 "metadata": {
  "kernelspec": {
   "display_name": "Python 3",
   "language": "python",
   "name": "python3"
  },
  "language_info": {
   "codemirror_mode": {
    "name": "ipython",
    "version": 3
   },
   "file_extension": ".py",
   "mimetype": "text/x-python",
   "name": "python",
   "nbconvert_exporter": "python",
   "pygments_lexer": "ipython3",
   "version": "3.8.8"
  }
 },
 "nbformat": 4,
 "nbformat_minor": 5
}

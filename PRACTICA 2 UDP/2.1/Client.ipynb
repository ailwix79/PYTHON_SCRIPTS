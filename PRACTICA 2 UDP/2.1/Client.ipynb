{
 "cells": [
  {
   "cell_type": "code",
   "execution_count": 2,
   "id": "9cda81c7",
   "metadata": {},
   "outputs": [
    {
     "name": "stdout",
     "output_type": "stream",
     "text": [
      "Connection failed. Retrying...\n",
      "Connection failed. Retrying...\n",
      "Connection failed. Retrying...\n",
      "Connection failed. Retrying...\n",
      "Connection failed. Retrying...\n",
      "Server is not online\n"
     ]
    }
   ],
   "source": [
    "# PRACTICA 2.1 CLIENTE\n",
    "\n",
    "import socket\n",
    "import pickle\n",
    "import time\n",
    "\n",
    "c = 0\n",
    "while True:\n",
    "    try:\n",
    "        server_address = (\"127.0.0.1\",6780)\n",
    "        s = socket.socket(family=socket.AF_INET, type=socket.SOCK_DGRAM)\n",
    "        s.sendto(pickle.dumps(\"TIME\"), server_address)\n",
    "        \n",
    "        bytes_rx = s.recvfrom(1024)\n",
    "        print(\"Messsage received from Server: \" + str(bytes_rx[1]))\n",
    "        print(\"Message: \" + str(pickle.loads(bytes_rx[0])))\n",
    "        break\n",
    "        \n",
    "    except ConnectionResetError:\n",
    "        if (c >= 5):\n",
    "            print(\"Server is not online\")\n",
    "            break\n",
    "        else:\n",
    "            print(\"Connection failed. Retrying...\")\n",
    "            c += 1\n",
    "            time.sleep(1)\n",
    "            continue\n",
    "            \n",
    "s.close()"
   ]
  },
  {
   "cell_type": "code",
   "execution_count": null,
   "id": "549bdf3b",
   "metadata": {},
   "outputs": [],
   "source": []
  },
  {
   "cell_type": "code",
   "execution_count": null,
   "id": "0d1c78c9",
   "metadata": {},
   "outputs": [],
   "source": []
  }
 ],
 "metadata": {
  "kernelspec": {
   "display_name": "Python 3",
   "language": "python",
   "name": "python3"
  },
  "language_info": {
   "codemirror_mode": {
    "name": "ipython",
    "version": 3
   },
   "file_extension": ".py",
   "mimetype": "text/x-python",
   "name": "python",
   "nbconvert_exporter": "python",
   "pygments_lexer": "ipython3",
   "version": "3.8.8"
  }
 },
 "nbformat": 4,
 "nbformat_minor": 5
}

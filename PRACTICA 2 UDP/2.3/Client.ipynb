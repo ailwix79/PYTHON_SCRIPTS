{
 "cells": [
  {
   "cell_type": "code",
   "execution_count": 1,
   "id": "89ab846d",
   "metadata": {},
   "outputs": [
    {
     "name": "stdout",
     "output_type": "stream",
     "text": [
      "Start 100.000 calls\n",
      "Elapsed time is 20.745611429214478\n",
      "Average difference time: 0:0:4.999950000499995e-05:1.4810951890481094\n"
     ]
    }
   ],
   "source": [
    "# PRACTICA 2.3 CLIENTE\n",
    "\n",
    "from statistics import mean \n",
    "import socket\n",
    "import pickle\n",
    "import time\n",
    "import datetime\n",
    "\n",
    "c = 0\n",
    "num_exec = 0\n",
    "\n",
    "hours = []\n",
    "minutes = []\n",
    "seconds = []\n",
    "microseconds = []\n",
    "\n",
    "start = time.time()\n",
    "print(\"Start 100.000 calls\")\n",
    "while True:\n",
    "    try:\n",
    "        while (num_exec <= 100000):\n",
    "        \n",
    "            server_address = (\"127.0.0.1\",6780)\n",
    "            s = socket.socket(family=socket.AF_INET, type=socket.SOCK_DGRAM)\n",
    "            s.sendto(pickle.dumps(\"TIME\"), server_address)\n",
    "\n",
    "            bytes_rx = s.recvfrom(1024)\n",
    "\n",
    "            res = pickle.loads(bytes_rx[0])\n",
    "            hours.append(res.hour - datetime.datetime.now().hour)\n",
    "            minutes.append(res.minute - datetime.datetime.now().minute)\n",
    "            seconds.append(res.second - datetime.datetime.now().second)\n",
    "            microseconds.append(res.microsecond - datetime.datetime.now().microsecond)\n",
    "\n",
    "            num_exec += 1\n",
    "            \n",
    "        break\n",
    "        \n",
    "    except ConnectionResetError:\n",
    "        if (c >= 5):\n",
    "            print(\"Server is not online\")\n",
    "            break\n",
    "        else:\n",
    "            print(\"Connection failed. Retrying...\")\n",
    "            c += 1\n",
    "            time.sleep(1)\n",
    "            continue\n",
    "\n",
    "end = time.time()\n",
    "print(\"Elapsed time is \" + str(abs(end-start)))\n",
    "\n",
    "if (num_exec != 0):\n",
    "    print(\"Average difference time: \" + str(abs(mean(hours))) + \":\" + str(abs(mean(minutes))) + \":\" + str(abs(mean(seconds))) + \":\" + str(abs(mean(microseconds))))\n",
    "        \n",
    "s.close()"
   ]
  }
 ],
 "metadata": {
  "kernelspec": {
   "display_name": "Python 3",
   "language": "python",
   "name": "python3"
  },
  "language_info": {
   "codemirror_mode": {
    "name": "ipython",
    "version": 3
   },
   "file_extension": ".py",
   "mimetype": "text/x-python",
   "name": "python",
   "nbconvert_exporter": "python",
   "pygments_lexer": "ipython3",
   "version": "3.8.8"
  }
 },
 "nbformat": 4,
 "nbformat_minor": 5
}

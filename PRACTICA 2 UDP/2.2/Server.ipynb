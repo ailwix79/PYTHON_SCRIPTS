{
 "cells": [
  {
   "cell_type": "code",
   "execution_count": null,
   "id": "8184df67",
   "metadata": {},
   "outputs": [
    {
     "name": "stdout",
     "output_type": "stream",
     "text": [
      "UDP Server up and listening on 127.0.0.1:6780\n"
     ]
    }
   ],
   "source": [
    "# PRACTICA 2.2 SERVIDOR\n",
    "\n",
    "import socket\n",
    "import pickle\n",
    "import time\n",
    "import datetime\n",
    "\n",
    "server_address = (\"127.0.0.1\",6780)\n",
    "s = socket.socket(family=socket.AF_INET, type=socket.SOCK_DGRAM)\n",
    "s.bind(server_address)\n",
    "            \n",
    "# Arranca el servidor\n",
    "print(\"UDP Server up and listening on 127.0.0.1:6780\")\n",
    "            \n",
    "while True:\n",
    "    bytes_rx = s.recvfrom(1024)\n",
    "    message = pickle.loads(bytes_rx[0])\n",
    "    address = bytes_rx[1]\n",
    "    \n",
    "    if (str(message) == \"TIME\"):\n",
    "        date = datetime.datetime.now();\n",
    "        s.sendto(pickle.dumps(date),address)\n",
    "    else:\n",
    "        s.sendto(pickle.dumps(\"Order not found\"),address)\n",
    "\n",
    "s.close()"
   ]
  },
  {
   "cell_type": "code",
   "execution_count": null,
   "id": "8278d788",
   "metadata": {},
   "outputs": [],
   "source": []
  }
 ],
 "metadata": {
  "kernelspec": {
   "display_name": "Python 3",
   "language": "python",
   "name": "python3"
  },
  "language_info": {
   "codemirror_mode": {
    "name": "ipython",
    "version": 3
   },
   "file_extension": ".py",
   "mimetype": "text/x-python",
   "name": "python",
   "nbconvert_exporter": "python",
   "pygments_lexer": "ipython3",
   "version": "3.8.8"
  }
 },
 "nbformat": 4,
 "nbformat_minor": 5
}

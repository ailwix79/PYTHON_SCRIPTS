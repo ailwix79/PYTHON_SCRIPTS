{
 "cells": [
  {
   "cell_type": "code",
   "execution_count": 2,
   "id": "c2c501de",
   "metadata": {},
   "outputs": [
    {
     "name": "stdout",
     "output_type": "stream",
     "text": [
      "Messsage received from Server: ('127.0.0.1', 6780)\n",
      "Time difference is -1 day, 23:59:59.998990\n"
     ]
    }
   ],
   "source": [
    "# PRACTICA 2.2 CLIENTE\n",
    "\n",
    "import socket\n",
    "import pickle\n",
    "import time\n",
    "import datetime\n",
    "\n",
    "c = 0\n",
    "while True:\n",
    "    try:\n",
    "        server_address = (\"127.0.0.1\",6780)\n",
    "        s = socket.socket(family=socket.AF_INET, type=socket.SOCK_DGRAM)\n",
    "        s.sendto(pickle.dumps(\"TIME\"), server_address)\n",
    "        \n",
    "        bytes_rx = s.recvfrom(1024)\n",
    "        print(\"Messsage received from Server: \" + str(bytes_rx[1]))\n",
    "        \n",
    "        res = pickle.loads(bytes_rx[0])\n",
    "        hours = res.hour - datetime.datetime.now().hour\n",
    "        minutes = res.minute - datetime.datetime.now().minute\n",
    "        seconds = res.second - datetime.datetime.now().second\n",
    "        microseconds = res.microsecond - datetime.datetime.now().microsecond\n",
    "        \n",
    "        print(\"Time difference is \" + str(abs(hours)) + \":\" + str(abs(minutes)) + \":\" + str(abs(seconds)) + \".\" + str(abs(microseconds)))\n",
    "        break\n",
    "        \n",
    "    except ConnectionResetError:\n",
    "        if (c >= 5):\n",
    "            print(\"Server is not online\")\n",
    "            break\n",
    "        else:\n",
    "            print(\"Connection failed. Retrying...\")\n",
    "            c += 1\n",
    "            time.sleep(1)\n",
    "            continue\n",
    "            \n",
    "s.close()"
   ]
  },
  {
   "cell_type": "code",
   "execution_count": null,
   "id": "cb56c4e5",
   "metadata": {},
   "outputs": [],
   "source": []
  }
 ],
 "metadata": {
  "kernelspec": {
   "display_name": "Python 3",
   "language": "python",
   "name": "python3"
  },
  "language_info": {
   "codemirror_mode": {
    "name": "ipython",
    "version": 3
   },
   "file_extension": ".py",
   "mimetype": "text/x-python",
   "name": "python",
   "nbconvert_exporter": "python",
   "pygments_lexer": "ipython3",
   "version": "3.8.8"
  }
 },
 "nbformat": 4,
 "nbformat_minor": 5
}
